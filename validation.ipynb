{
 "cells": [
  {
   "cell_type": "markdown",
   "metadata": {},
   "source": [
    "### **Import libraries**"
   ]
  },
  {
   "cell_type": "code",
   "execution_count": 14,
   "metadata": {},
   "outputs": [],
   "source": [
    "import pandas as pd\n",
    "import numpy as np\n",
    "import kmapper as km\n",
    "import warnings\n",
    "import dyneusr as dsr\n",
    "\n",
    "from mapping import MappingTDA\n",
    "from sklearn.manifold import Isomap\n",
    "from sklearn.cluster import DBSCAN\n",
    "from sklearn.decomposition import PCA, KernelPCA\n",
    "from collections import defaultdict\n",
    "from umap.umap_ import UMAP"
   ]
  },
  {
   "cell_type": "code",
   "execution_count": 15,
   "metadata": {},
   "outputs": [],
   "source": [
    "# Set seed for reproducibility\n",
    "seed_value = 42\n",
    "\n",
    "# Ignore warnings\n",
    "warnings.filterwarnings(\"ignore\")"
   ]
  },
  {
   "cell_type": "markdown",
   "metadata": {},
   "source": [
    "### **Load data**"
   ]
  },
  {
   "cell_type": "code",
   "execution_count": 16,
   "metadata": {},
   "outputs": [
    {
     "name": "stdout",
     "output_type": "stream",
     "text": [
      "X shape: (1109, 52)\n"
     ]
    }
   ],
   "source": [
    "data_path = 'your data directory here'\n",
    "\n",
    "x = pd.read_csv(data_path + 'file_name')\n",
    "\n",
    "# Print dimensions\n",
    "print(f'X shape: {x.shape}') # (n_samples, n_features)"
   ]
  },
  {
   "cell_type": "markdown",
   "metadata": {},
   "source": [
    "### **Mapping framework valildation**"
   ]
  },
  {
   "cell_type": "code",
   "execution_count": 17,
   "metadata": {},
   "outputs": [
    {
     "name": "stdout",
     "output_type": "stream",
     "text": [
      "KeplerMapper()\n"
     ]
    }
   ],
   "source": [
    "mapper = km.KeplerMapper(verbose=1)"
   ]
  },
  {
   "cell_type": "markdown",
   "metadata": {},
   "source": [
    "Choose Filter dimensionality reduction technique"
   ]
  },
  {
   "cell_type": "code",
   "execution_count": 18,
   "metadata": {},
   "outputs": [],
   "source": [
    "projector = 'kpca'\n",
    "if projector == 'pca':\n",
    "    projector = PCA(n_components=2, random_state=seed_value)\n",
    "elif projector == 'kpca':\n",
    "    projector = KernelPCA(n_components=2, kernel='rbf', random_state=seed_value)\n",
    "elif projector == 'isomap':\n",
    "    projector = Isomap(n_components=2)\n",
    "\n",
    "lens = projector.fit_transform(x)"
   ]
  },
  {
   "cell_type": "markdown",
   "metadata": {},
   "source": [
    "Choose Cover parameters"
   ]
  },
  {
   "cell_type": "code",
   "execution_count": 19,
   "metadata": {},
   "outputs": [],
   "source": [
    "cover = km.Cover(n_cubes=20, perc_overlap=0.6)"
   ]
  },
  {
   "cell_type": "markdown",
   "metadata": {},
   "source": [
    "Choose Clustering technique"
   ]
  },
  {
   "cell_type": "code",
   "execution_count": 20,
   "metadata": {},
   "outputs": [],
   "source": [
    "min_samples = 3\n",
    "clusterer = DBSCAN(eps=32, min_samples=min_samples)"
   ]
  },
  {
   "cell_type": "markdown",
   "metadata": {},
   "source": [
    "Create graph and convert it to NetworkX format"
   ]
  },
  {
   "cell_type": "code",
   "execution_count": 21,
   "metadata": {},
   "outputs": [
    {
     "name": "stdout",
     "output_type": "stream",
     "text": [
      "Mapping on data shaped (1109, 52) using lens shaped (1109, 2)\n",
      "\n",
      "Creating 400 hypercubes.\n",
      "\n",
      "Created 2573 edges and 283 nodes in 0:00:00.320267.\n"
     ]
    }
   ],
   "source": [
    "graph = mapper.map(lens, x,\n",
    "                   cover=cover,\n",
    "                   clusterer=clusterer)\n",
    "\n",
    "nx_graph = km.adapter.to_nx(graph)"
   ]
  },
  {
   "cell_type": "markdown",
   "metadata": {},
   "source": [
    "Visualize graph"
   ]
  },
  {
   "cell_type": "code",
   "execution_count": null,
   "metadata": {},
   "outputs": [],
   "source": [
    "mapper.visualize(graph=graph, path_html='graph.html', color_function=np.array(y_numeric))\n",
    "\n",
    "dyneu_graph = dsr.DyNeuGraph(G=graph, y=np.array(y))\n",
    "dyneu_graph.visualize(path_html='dyneu_graph.html', show=False)"
   ]
  },
  {
   "cell_type": "markdown",
   "metadata": {},
   "source": [
    "Extract graph nodes indexes"
   ]
  },
  {
   "cell_type": "code",
   "execution_count": 23,
   "metadata": {},
   "outputs": [
    {
     "name": "stdout",
     "output_type": "stream",
     "text": [
      "Number of nodes: 283\n"
     ]
    }
   ],
   "source": [
    "samples_in_nodes = {name: attributes['membership'] for name, attributes in list(nx_graph.nodes(data=True))}\n",
    "nodes_idx = [int(el_pca.split('cube')[1].split('_')[0]) for el_pca in list(nx_graph.nodes())]\n",
    "\n",
    "nodes_membership = {}\n",
    "for node, members in samples_in_nodes.items():\n",
    "    node_id = int(node.split('cube')[1].split('_')[0])  \n",
    "    nodes_membership[node_id] = list(members)\n",
    "\n",
    "# Print number of nodes\n",
    "print(f'Number of nodes: {len(samples_in_nodes)}')"
   ]
  },
  {
   "cell_type": "markdown",
   "metadata": {},
   "source": [
    "#### Validation of the mapping framework"
   ]
  },
  {
   "cell_type": "code",
   "execution_count": 24,
   "metadata": {},
   "outputs": [],
   "source": [
    "mapping = MappingTDA(x, projector, cover)\n",
    "\n",
    "check = []\n",
    "nodes_list = []\n",
    "hypercubes_list = []\n",
    "sample_map = {}\n",
    "\n",
    "for i in range(0, x.shape[0]):\n",
    "    subj = x.iloc[[i]]\n",
    "    subj_projected = projector.transform(subj)\n",
    "\n",
    "    # New subject mapped on the precomputed graph\n",
    "    hypercubes_idx, hypercubes, bins = mapping.mapping(subj_projected)\n",
    "\n",
    "    graph_nodes_idx = []\n",
    "    for node, members in nodes_membership.items():\n",
    "        if i in members:\n",
    "            graph_nodes_idx.append(node)\n",
    "\n",
    "    if all(index in hypercubes_idx for index in graph_nodes_idx):\n",
    "        check.append(True)\n",
    "\n",
    "    for idx in hypercubes_idx:\n",
    "        if len(hypercubes[idx]) >= min_samples and idx not in nodes_list:\n",
    "            nodes_list.append(idx)\n",
    "    \n",
    "    for idx in hypercubes_idx:\n",
    "        if idx not in hypercubes_list:\n",
    "            hypercubes_list.append(idx)\n",
    "    \n",
    "    sample_map[i] = graph_nodes_idx\n"
   ]
  },
  {
   "cell_type": "code",
   "execution_count": 25,
   "metadata": {},
   "outputs": [
    {
     "data": {
      "text/plain": [
       "1109"
      ]
     },
     "execution_count": 25,
     "metadata": {},
     "output_type": "execute_result"
    }
   ],
   "source": [
    "np.sum(np.array(check))"
   ]
  },
  {
   "cell_type": "code",
   "execution_count": 26,
   "metadata": {},
   "outputs": [
    {
     "name": "stdout",
     "output_type": "stream",
     "text": [
      "283\n",
      "342\n",
      "283\n"
     ]
    }
   ],
   "source": [
    "print(len(nodes_list))\n",
    "print(len(hypercubes_list))\n",
    "print(len(nodes_membership))"
   ]
  },
  {
   "cell_type": "code",
   "execution_count": null,
   "metadata": {},
   "outputs": [],
   "source": []
  }
 ],
 "metadata": {
  "kernelspec": {
   "display_name": "tda_normative",
   "language": "python",
   "name": "python3"
  },
  "language_info": {
   "codemirror_mode": {
    "name": "ipython",
    "version": 3
   },
   "file_extension": ".py",
   "mimetype": "text/x-python",
   "name": "python",
   "nbconvert_exporter": "python",
   "pygments_lexer": "ipython3",
   "version": "3.11.7"
  }
 },
 "nbformat": 4,
 "nbformat_minor": 2
}
