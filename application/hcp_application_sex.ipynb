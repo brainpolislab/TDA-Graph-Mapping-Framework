{
 "cells": [
  {
   "cell_type": "markdown",
   "metadata": {},
   "source": [
    "### **Import libraries**"
   ]
  },
  {
   "cell_type": "code",
   "execution_count": 1,
   "metadata": {},
   "outputs": [],
   "source": [
    "import pandas as pd\n",
    "import numpy as np\n",
    "import kmapper as km\n",
    "import warnings\n",
    "import seaborn as sns\n",
    "import matplotlib.pyplot as plt\n",
    "import dyneusr as dsr\n",
    "\n",
    "from mapping import MappingTDA\n",
    "from sklearn.manifold import Isomap\n",
    "from sklearn.cluster import DBSCAN, OPTICS, HDBSCAN\n",
    "from sklearn.decomposition import PCA, KernelPCA\n",
    "from sklearn.model_selection import train_test_split\n",
    "from collections import Counter\n",
    "from sklearn.metrics import classification_report, f1_score"
   ]
  },
  {
   "cell_type": "code",
   "execution_count": 2,
   "metadata": {},
   "outputs": [],
   "source": [
    "# Set seed for reproducibility\n",
    "seed_value = 42\n",
    "\n",
    "# Ignore warnings\n",
    "warnings.filterwarnings(\"ignore\")"
   ]
  },
  {
   "cell_type": "markdown",
   "metadata": {},
   "source": [
    "### **Load data**"
   ]
  },
  {
   "cell_type": "code",
   "execution_count": 3,
   "metadata": {},
   "outputs": [
    {
     "name": "stdout",
     "output_type": "stream",
     "text": [
      "X shape: (1109, 52)\n"
     ]
    }
   ],
   "source": [
    "data_path = 'your data directory here'\n",
    "\n",
    "x = pd.read_csv(data_path + 'x_file_name.csv')\n",
    "y = pd.read_csv(data_path + 'sex_labels.csv')\n",
    "\n",
    "# Print dimensions\n",
    "print(f'X shape: {x.shape}') # (n_samples, n_features)"
   ]
  },
  {
   "cell_type": "markdown",
   "metadata": {},
   "source": [
    "Split into train and test"
   ]
  },
  {
   "cell_type": "code",
   "execution_count": 4,
   "metadata": {},
   "outputs": [
    {
     "name": "stdout",
     "output_type": "stream",
     "text": [
      "X_train shape: (887, 52)\n",
      "X_test shape: (222, 52)\n"
     ]
    }
   ],
   "source": [
    "x_train, x_test, y_train, y_test = train_test_split(x, y, test_size=0.2, stratify=y, random_state=seed_value)\n",
    "\n",
    "# Reset indices\n",
    "x_train.reset_index(drop=True, inplace=True)\n",
    "x_test.reset_index(drop=True, inplace=True)\n",
    "y_train.reset_index(drop=True, inplace=True)\n",
    "y_test.reset_index(drop=True, inplace=True)\n",
    "\n",
    "# Print dimensions\n",
    "print(f'X_train shape: {x_train.shape}')\n",
    "print(f'X_test shape: {x_test.shape}')"
   ]
  },
  {
   "cell_type": "markdown",
   "metadata": {},
   "source": [
    "#### **Explanatory data analysis**"
   ]
  },
  {
   "cell_type": "code",
   "execution_count": 5,
   "metadata": {},
   "outputs": [
    {
     "data": {
      "image/png": "[encoded data removed]",
      "text/plain": [
       "<Figure size 1000x300 with 2 Axes>"
      ]
     },
     "metadata": {},
     "output_type": "display_data"
    }
   ],
   "source": [
    "# Define a consistent color palette\n",
    "unique_classes = sorted(set(y_train['Gender']).union(set(y_test['Gender'])))\n",
    "palette = sns.color_palette(\"bright\", len(unique_classes))\n",
    "color_mapping = dict(zip(unique_classes, palette))\n",
    "\n",
    "# Create a figure with two subplots\n",
    "fig, axes = plt.subplots(1, 2, figsize=(10, 3), sharey=True)\n",
    "\n",
    "# Plot the count plot for y_train\n",
    "ax1 = sns.countplot(ax=axes[0], x=y_train['Gender'], palette=color_mapping.values())\n",
    "ax1.set_xlabel('Class')\n",
    "ax1.set_ylabel('Count')\n",
    "ax1.set_title('Sex distribution in the Train Set')\n",
    "for p in ax1.patches:\n",
    "    ax1.annotate(f'{int(p.get_height())}', \n",
    "                 (p.get_x() + p.get_width() / 2., p.get_height()), \n",
    "                 ha='center', va='center', xytext=(0, -10), \n",
    "                 textcoords='offset points', color='black')\n",
    "\n",
    "# Plot the count plot for y_test\n",
    "ax2 = sns.countplot(ax=axes[1], x=y_test['Gender'], palette=color_mapping.values())\n",
    "ax2.set_xlabel('Class')\n",
    "ax2.set_ylabel('Count')\n",
    "ax2.set_title('Sex distribution in the Test Set')\n",
    "for p in ax2.patches:\n",
    "    ax2.annotate(f'{int(p.get_height())}', \n",
    "                 (p.get_x() + p.get_width() / 2., p.get_height()), \n",
    "                 ha='center', va='center', xytext=(0, -10), \n",
    "                 textcoords='offset points', color='black')\n",
    "\n",
    "# Adjust layout\n",
    "plt.tight_layout()\n",
    "\n",
    "# Show the plots\n",
    "plt.show()"
   ]
  },
  {
   "cell_type": "markdown",
   "metadata": {},
   "source": [
    "### **Mapper (TDA)**"
   ]
  },
  {
   "cell_type": "code",
   "execution_count": 6,
   "metadata": {},
   "outputs": [
    {
     "name": "stdout",
     "output_type": "stream",
     "text": [
      "KeplerMapper()\n"
     ]
    }
   ],
   "source": [
    "mapper = km.KeplerMapper(verbose=1)"
   ]
  },
  {
   "cell_type": "markdown",
   "metadata": {},
   "source": [
    "Choose Filter dimensionality reduction technique"
   ]
  },
  {
   "cell_type": "code",
   "execution_count": 7,
   "metadata": {},
   "outputs": [],
   "source": [
    "projector = 'isomap'\n",
    "if projector == 'pca':\n",
    "    projector = PCA(n_components=2, random_state=seed_value)\n",
    "elif projector == 'kpca':\n",
    "    projector = KernelPCA(n_components=2, kernel='rbf', random_state=seed_value)\n",
    "elif projector == 'isomap':\n",
    "    projector = Isomap(n_components=2)\n",
    "\n",
    "lens = projector.fit_transform(x_train)"
   ]
  },
  {
   "cell_type": "markdown",
   "metadata": {},
   "source": [
    "Choose Cover parameters"
   ]
  },
  {
   "cell_type": "code",
   "execution_count": 8,
   "metadata": {},
   "outputs": [],
   "source": [
    "cover = km.Cover(n_cubes=20, perc_overlap=0.6)"
   ]
  },
  {
   "cell_type": "markdown",
   "metadata": {},
   "source": [
    "Choose Clustering technique"
   ]
  },
  {
   "cell_type": "code",
   "execution_count": 9,
   "metadata": {},
   "outputs": [],
   "source": [
    "min_samples = 3\n",
    "clusterer = DBSCAN(eps=32, min_samples=min_samples)"
   ]
  },
  {
   "cell_type": "markdown",
   "metadata": {},
   "source": [
    "Create graph and convert it to NetworkX format"
   ]
  },
  {
   "cell_type": "code",
   "execution_count": 10,
   "metadata": {},
   "outputs": [
    {
     "name": "stdout",
     "output_type": "stream",
     "text": [
      "Mapping on data shaped (887, 52) using lens shaped (887, 2)\n",
      "\n",
      "Creating 400 hypercubes.\n",
      "\n",
      "Created 2136 edges and 240 nodes in 0:00:00.179504.\n"
     ]
    }
   ],
   "source": [
    "graph = mapper.map(lens, x_train,\n",
    "                   cover=cover,\n",
    "                   clusterer=clusterer)\n",
    "\n",
    "nx_graph = km.adapter.to_nx(graph)"
   ]
  },
  {
   "cell_type": "markdown",
   "metadata": {},
   "source": [
    "Visualize graph"
   ]
  },
  {
   "cell_type": "code",
   "execution_count": null,
   "metadata": {},
   "outputs": [],
   "source": [
    "mapper.visualize(graph=graph, path_html='graph.html')\n",
    "\n",
    "dyneugraph = dsr.DyNeuGraph(G=graph, y=y_train)\n",
    "dyneugraph.visualize('graph_dyneusr.html', show=False)"
   ]
  },
  {
   "cell_type": "markdown",
   "metadata": {},
   "source": [
    "### **Sex distributions across nodes**"
   ]
  },
  {
   "cell_type": "code",
   "execution_count": 13,
   "metadata": {},
   "outputs": [],
   "source": [
    "def majority_voting(labels):\n",
    "    # Count the occurrences of each class\n",
    "    label_counts = Counter(labels)\n",
    "    \n",
    "    # Determine the majority class\n",
    "    majority_class, majority_count = label_counts.most_common(1)[0]\n",
    "    \n",
    "    # Calculate the probability of the majority class\n",
    "    total_count = len(labels)\n",
    "    probability = majority_count / total_count\n",
    "    \n",
    "    return majority_class, probability\n"
   ]
  },
  {
   "cell_type": "code",
   "execution_count": 14,
   "metadata": {},
   "outputs": [],
   "source": [
    "graph_nodes = {name: attributes['membership'] for name, attributes in list(nx_graph.nodes(data=True))}\n",
    "\n",
    "sex_nodes = {}\n",
    "for node, members in graph_nodes.items():\n",
    "    sex_distribution = []\n",
    "    for member in members:\n",
    "        sex_distribution.append(y_train.loc[member].values[0])\n",
    "\n",
    "    node_id = int(node.split('cube')[1].split('_')[0])\n",
    "\n",
    "    majority_sex = majority_voting(sex_distribution)[0]\n",
    "\n",
    "    sex_distribution = np.array(sex_distribution)\n",
    "    node_sex_ratio = np.count_nonzero(sex_distribution[sex_distribution==majority_sex])/len(sex_distribution)\n",
    "\n",
    "    sex_nodes[node_id] = [majority_sex, node_sex_ratio]"
   ]
  },
  {
   "cell_type": "markdown",
   "metadata": {},
   "source": [
    "Distribution of sex in training set"
   ]
  },
  {
   "cell_type": "code",
   "execution_count": 15,
   "metadata": {},
   "outputs": [],
   "source": [
    "train_membership = {}\n",
    "for j in range(0, x_train.shape[0]):\n",
    "    node_ = []\n",
    "    for node, members in graph_nodes.items():\n",
    "        node_id = int(node.split('cube')[1].split('_')[0])\n",
    "        if j in members:\n",
    "            node_.append(node_id)\n",
    "    \n",
    "    if len(node_) > 0:\n",
    "        train_membership[j] = node_\n",
    "    else:\n",
    "        continue"
   ]
  },
  {
   "cell_type": "code",
   "execution_count": 16,
   "metadata": {},
   "outputs": [],
   "source": [
    "train_sex_distribution = {}\n",
    "for idx, nodes in train_membership.items():\n",
    "    sex_in_nodes = []\n",
    "    for node in nodes:\n",
    "        sex_in_nodes.append(sex_nodes[node][0])\n",
    "\n",
    "    # Majority voting \n",
    "    train_sex_distribution[idx] = [majority_voting(sex_in_nodes)[0], y_train.loc[idx].values[0], majority_voting(sex_in_nodes)[1]]"
   ]
  },
  {
   "cell_type": "markdown",
   "metadata": {},
   "source": [
    "Ratio of sex distribution across nodes"
   ]
  },
  {
   "cell_type": "code",
   "execution_count": 17,
   "metadata": {},
   "outputs": [
    {
     "data": {
      "image/png": "[encoded data removed]",
      "text/plain": [
       "<Figure size 800x300 with 1 Axes>"
      ]
     },
     "metadata": {},
     "output_type": "display_data"
    }
   ],
   "source": [
    "ratios = [value[1] for value in sex_nodes.values()]\n",
    "\n",
    "# Plot the distribution\n",
    "plt.figure(figsize=(8, 3))\n",
    "plt.hist(ratios, bins=50, edgecolor='black')\n",
    "plt.xlabel('Ratio')\n",
    "plt.ylabel('Frequency')\n",
    "plt.title('Ratio of sex distribution in the nodes')\n",
    "plt.grid(False)\n",
    "plt.show()"
   ]
  },
  {
   "cell_type": "markdown",
   "metadata": {},
   "source": [
    "### **Mapping framework application**"
   ]
  },
  {
   "cell_type": "code",
   "execution_count": 18,
   "metadata": {},
   "outputs": [],
   "source": [
    "mapping = MappingTDA(x_train, projector, cover)"
   ]
  },
  {
   "cell_type": "code",
   "execution_count": 19,
   "metadata": {},
   "outputs": [],
   "source": [
    "graph_nodes_idx = [int(el_pca.split('cube')[1].split('_')[0]) for el_pca in list(nx_graph.nodes())]"
   ]
  },
  {
   "cell_type": "code",
   "execution_count": 20,
   "metadata": {},
   "outputs": [],
   "source": [
    "test_mapped = {}\n",
    "for i in range(0, x_test.shape[0]):\n",
    "    subj = x_test.iloc[[i]]\n",
    "    subj_projected = projector.transform(subj)\n",
    "\n",
    "    hypercubes_idx, hypercubes, bins = mapping.mapping(subj_projected)\n",
    "\n",
    "    nodes_idx = []\n",
    "    for idx in hypercubes_idx:\n",
    "        if idx in graph_nodes_idx:\n",
    "            nodes_idx.append(idx)\n",
    "\n",
    "    test_mapped[i] = nodes_idx"
   ]
  },
  {
   "cell_type": "code",
   "execution_count": 21,
   "metadata": {},
   "outputs": [],
   "source": [
    "test_sex_distribution = {}\n",
    "for idx, nodes in test_mapped.items():\n",
    "    sex_in_nodes = []\n",
    "    for node in nodes:\n",
    "        sex_in_nodes.append(sex_nodes[node][0])\n",
    "\n",
    "    # Majority voting for sex prediction\n",
    "    test_sex_distribution[idx] = [majority_voting(sex_in_nodes)[0], y_test.loc[idx].values[0], majority_voting(sex_in_nodes)[1]]"
   ]
  },
  {
   "cell_type": "markdown",
   "metadata": {},
   "source": [
    "Check for predictability"
   ]
  },
  {
   "cell_type": "code",
   "execution_count": 22,
   "metadata": {},
   "outputs": [],
   "source": [
    "train_results = []\n",
    "for idx, sex in train_sex_distribution.items():\n",
    "    if sex[0] == sex[1]:\n",
    "        train_results.append(1)\n",
    "    else:\n",
    "        train_results.append(0)"
   ]
  },
  {
   "cell_type": "code",
   "execution_count": 23,
   "metadata": {},
   "outputs": [],
   "source": [
    "test_results = []\n",
    "for idx, sex in test_sex_distribution.items():\n",
    "    if sex[0] == sex[1]:\n",
    "        test_results.append(1)\n",
    "    else:\n",
    "        test_results.append(0)"
   ]
  },
  {
   "cell_type": "code",
   "execution_count": 24,
   "metadata": {},
   "outputs": [
    {
     "name": "stdout",
     "output_type": "stream",
     "text": [
      "Train accuracy: 0.7988700564971751\n",
      "Test accuracy: 0.7387387387387387\n"
     ]
    }
   ],
   "source": [
    "accuracy_train = sum(train_results) / len(train_results)\n",
    "accuracy_test = sum(test_results) / len(test_results)\n",
    "\n",
    "print(f'Train accuracy: {accuracy_train}')\n",
    "print(f'Test accuracy: {accuracy_test}')"
   ]
  },
  {
   "cell_type": "code",
   "execution_count": 25,
   "metadata": {},
   "outputs": [],
   "source": [
    "y_train_df = pd.DataFrame(train_sex_distribution).T\n",
    "y_test_df = pd.DataFrame(test_sex_distribution).T\n",
    "\n",
    "y_train_df.columns = ['Predicted', 'True', 'Prob']\n",
    "y_test_df.columns = ['Predicted', 'True', 'Prob']"
   ]
  },
  {
   "cell_type": "code",
   "execution_count": 26,
   "metadata": {},
   "outputs": [
    {
     "name": "stdout",
     "output_type": "stream",
     "text": [
      "              precision    recall  f1-score   support\n",
      "\n",
      "           F      0.776     0.888     0.828       483\n",
      "           M      0.837     0.692     0.757       402\n",
      "\n",
      "    accuracy                          0.799       885\n",
      "   macro avg      0.807     0.790     0.793       885\n",
      "weighted avg      0.804     0.799     0.796       885\n",
      "\n",
      "0.7960743221399943\n"
     ]
    }
   ],
   "source": [
    "print(classification_report(y_train_df['True'], y_train_df['Predicted'], digits=3))\n",
    "\n",
    "# Convert the labels to binary\n",
    "y_train_df['True'] = y_train_df['True'].apply(lambda x: 1 if x == 'M' else 0)\n",
    "y_train_df['Predicted'] = y_train_df['Predicted'].apply(lambda x: 1 if x == 'M' else 0)\n",
    "print(f1_score(y_train_df['True'], y_train_df['Predicted'], average='weighted'))"
   ]
  },
  {
   "cell_type": "code",
   "execution_count": 27,
   "metadata": {},
   "outputs": [
    {
     "name": "stdout",
     "output_type": "stream",
     "text": [
      "              precision    recall  f1-score   support\n",
      "\n",
      "           F      0.730     0.826     0.775       121\n",
      "           M      0.753     0.634     0.688       101\n",
      "\n",
      "    accuracy                          0.739       222\n",
      "   macro avg      0.741     0.730     0.732       222\n",
      "weighted avg      0.740     0.739     0.736       222\n",
      "\n",
      "0.7356028196238249\n"
     ]
    }
   ],
   "source": [
    "print(classification_report(y_test_df['True'], y_test_df['Predicted'], digits=3))\n",
    "\n",
    "# Convert the labels to binary\n",
    "y_test_df['True'] = y_test_df['True'].apply(lambda x: 1 if x == 'M' else 0)\n",
    "y_test_df['Predicted'] = y_test_df['Predicted'].apply(lambda x: 1 if x == 'M' else 0)\n",
    "print(f1_score(y_test_df['True'], y_test_df['Predicted'], average='weighted'))"
   ]
  },
  {
   "cell_type": "code",
   "execution_count": null,
   "metadata": {},
   "outputs": [],
   "source": []
  }
 ],
 "metadata": {
  "kernelspec": {
   "display_name": "tda_normative",
   "language": "python",
   "name": "python3"
  },
  "language_info": {
   "codemirror_mode": {
    "name": "ipython",
    "version": 3
   },
   "file_extension": ".py",
   "mimetype": "text/x-python",
   "name": "python",
   "nbconvert_exporter": "python",
   "pygments_lexer": "ipython3",
   "version": "3.11.7"
  }
 },
 "nbformat": 4,
 "nbformat_minor": 2
}
