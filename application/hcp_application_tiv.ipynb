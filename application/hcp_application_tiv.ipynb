{
 "cells": [
  {
   "cell_type": "markdown",
   "metadata": {},
   "source": [
    "### **Import libraries**"
   ]
  },
  {
   "cell_type": "code",
   "execution_count": 1,
   "metadata": {},
   "outputs": [],
   "source": [
    "import pandas as pd\n",
    "import numpy as np\n",
    "import kmapper as km\n",
    "import warnings\n",
    "import seaborn as sns\n",
    "import matplotlib.pyplot as plt\n",
    "\n",
    "from mapping import MappingTDA\n",
    "from sklearn.manifold import Isomap\n",
    "from sklearn.cluster import DBSCAN, OPTICS, HDBSCAN\n",
    "from sklearn.decomposition import PCA, KernelPCA\n",
    "from sklearn.model_selection import train_test_split\n",
    "from collections import Counter\n",
    "from scipy.stats import wilcoxon, ttest_rel, kruskal\n",
    "from statsmodels.stats.weightstats import ttost_paired"
   ]
  },
  {
   "cell_type": "code",
   "execution_count": 2,
   "metadata": {},
   "outputs": [],
   "source": [
    "# Set seed for reproducibility\n",
    "seed_value = 42\n",
    "\n",
    "# Ignore warnings\n",
    "warnings.filterwarnings(\"ignore\")"
   ]
  },
  {
   "cell_type": "markdown",
   "metadata": {},
   "source": [
    "### **Load data**"
   ]
  },
  {
   "cell_type": "code",
   "execution_count": 3,
   "metadata": {},
   "outputs": [
    {
     "name": "stdout",
     "output_type": "stream",
     "text": [
      "Data shape: (1109, 52)\n"
     ]
    }
   ],
   "source": [
    "data_path = 'your data directory here'\n",
    "\n",
    "df = pd.read_csv(data_path + 'file_name.csv')\n",
    "y = pd.read_csv(data_path + 'sex_labels.csv')\n",
    "tiv = pd.read_csv(data_path + 'TIV.csv', header=None).rename(columns={0: 'TIV'})\n",
    "\n",
    "x = pd.concat([df, tiv], axis=1)\n",
    "\n",
    "# Print dimensions\n",
    "print(f'Data shape: {df.shape}') # (n_samples, n_features)"
   ]
  },
  {
   "cell_type": "markdown",
   "metadata": {},
   "source": [
    "Split into train and test"
   ]
  },
  {
   "cell_type": "code",
   "execution_count": 4,
   "metadata": {},
   "outputs": [
    {
     "name": "stdout",
     "output_type": "stream",
     "text": [
      "X_train shape: (887, 53)\n",
      "X_test shape: (222, 53)\n"
     ]
    }
   ],
   "source": [
    "x_train, x_test, y_train, y_test = train_test_split(x, y, test_size=0.2, stratify=y, random_state=seed_value)\n",
    "\n",
    "# Reset indices\n",
    "x_train.reset_index(drop=True, inplace=True)\n",
    "x_test.reset_index(drop=True, inplace=True)\n",
    "y_train.reset_index(drop=True, inplace=True)\n",
    "y_test.reset_index(drop=True, inplace=True)\n",
    "\n",
    "# Print dimensions\n",
    "print(f'X_train shape: {x_train.shape}')\n",
    "print(f'X_test shape: {x_test.shape}')"
   ]
  },
  {
   "cell_type": "code",
   "execution_count": 5,
   "metadata": {},
   "outputs": [],
   "source": [
    "train_tiv = x_train['TIV']\n",
    "test_tiv = x_test['TIV']\n",
    "\n",
    "# Drop TIV from the data\n",
    "x_train.drop(columns='TIV', inplace=True)\n",
    "x_test.drop(columns='TIV', inplace=True)"
   ]
  },
  {
   "cell_type": "markdown",
   "metadata": {},
   "source": [
    "#### **Explanatory data analysis**"
   ]
  },
  {
   "cell_type": "code",
   "execution_count": 6,
   "metadata": {},
   "outputs": [
    {
     "data": {
      "image/png": "[encoded data removed]",
      "text/plain": [
       "<Figure size 1000x300 with 2 Axes>"
      ]
     },
     "metadata": {},
     "output_type": "display_data"
    }
   ],
   "source": [
    "# Define a consistent color palette\n",
    "unique_classes = sorted(set(y_train['Gender']).union(set(y_test['Gender'])))\n",
    "palette = sns.color_palette(\"bright\", len(unique_classes))\n",
    "color_mapping = dict(zip(unique_classes, palette))\n",
    "\n",
    "# Create a figure with two subplots\n",
    "fig, axes = plt.subplots(1, 2, figsize=(10, 3), sharey=True)\n",
    "\n",
    "# Plot the count plot for y_train\n",
    "ax1 = sns.countplot(ax=axes[0], x=y_train['Gender'], palette=color_mapping.values())\n",
    "ax1.set_xlabel('Class')\n",
    "ax1.set_ylabel('Count')\n",
    "ax1.set_title('Sex distribution in the Train Set')\n",
    "for p in ax1.patches:\n",
    "    ax1.annotate(f'{int(p.get_height())}', \n",
    "                 (p.get_x() + p.get_width() / 2., p.get_height()), \n",
    "                 ha='center', va='center', xytext=(0, -10), \n",
    "                 textcoords='offset points', color='black')\n",
    "\n",
    "# Plot the count plot for y_test\n",
    "ax2 = sns.countplot(ax=axes[1], x=y_test['Gender'], palette=color_mapping.values())\n",
    "ax2.set_xlabel('Class')\n",
    "ax2.set_ylabel('Count')\n",
    "ax2.set_title('Sex distribution in the Test Set')\n",
    "for p in ax2.patches:\n",
    "    ax2.annotate(f'{int(p.get_height())}', \n",
    "                 (p.get_x() + p.get_width() / 2., p.get_height()), \n",
    "                 ha='center', va='center', xytext=(0, -10), \n",
    "                 textcoords='offset points', color='black')\n",
    "\n",
    "# Adjust layout\n",
    "plt.tight_layout()\n",
    "\n",
    "# Show the plots\n",
    "plt.show()"
   ]
  },
  {
   "cell_type": "markdown",
   "metadata": {},
   "source": [
    "### **Mapper (TDA)**"
   ]
  },
  {
   "cell_type": "code",
   "execution_count": 7,
   "metadata": {},
   "outputs": [
    {
     "name": "stdout",
     "output_type": "stream",
     "text": [
      "KeplerMapper()\n"
     ]
    }
   ],
   "source": [
    "mapper = km.KeplerMapper(verbose=1)"
   ]
  },
  {
   "cell_type": "markdown",
   "metadata": {},
   "source": [
    "Choose Filter dimensionality reduction technique"
   ]
  },
  {
   "cell_type": "code",
   "execution_count": 8,
   "metadata": {},
   "outputs": [],
   "source": [
    "projector = 'kpca'\n",
    "if projector == 'pca':\n",
    "    projector = PCA(n_components=2, random_state=seed_value)\n",
    "elif projector == 'kpca':\n",
    "    projector = KernelPCA(n_components=2, kernel='rbf', random_state=seed_value)\n",
    "elif projector == 'isomap':\n",
    "    projector = Isomap(n_components=2)\n",
    "\n",
    "lens = projector.fit_transform(x_train)"
   ]
  },
  {
   "cell_type": "markdown",
   "metadata": {},
   "source": [
    "Choose Cover parameters"
   ]
  },
  {
   "cell_type": "code",
   "execution_count": 9,
   "metadata": {},
   "outputs": [],
   "source": [
    "cover = km.Cover(n_cubes=20, perc_overlap=0.6)"
   ]
  },
  {
   "cell_type": "markdown",
   "metadata": {},
   "source": [
    "Choose Clustering technique"
   ]
  },
  {
   "cell_type": "code",
   "execution_count": 10,
   "metadata": {},
   "outputs": [],
   "source": [
    "min_samples = 3\n",
    "clusterer = DBSCAN(eps=32, min_samples=min_samples)"
   ]
  },
  {
   "cell_type": "markdown",
   "metadata": {},
   "source": [
    "Create graph and convert it to NetworkX format"
   ]
  },
  {
   "cell_type": "code",
   "execution_count": 11,
   "metadata": {},
   "outputs": [
    {
     "name": "stdout",
     "output_type": "stream",
     "text": [
      "Mapping on data shaped (887, 52) using lens shaped (887, 2)\n",
      "\n",
      "Creating 400 hypercubes.\n",
      "\n",
      "Created 2420 edges and 269 nodes in 0:00:00.427770.\n"
     ]
    }
   ],
   "source": [
    "graph = mapper.map(lens, x_train,\n",
    "                   cover=cover,\n",
    "                   clusterer=clusterer)\n",
    "\n",
    "nx_graph = km.adapter.to_nx(graph)"
   ]
  },
  {
   "cell_type": "markdown",
   "metadata": {},
   "source": [
    "Visualize graph"
   ]
  },
  {
   "cell_type": "code",
   "execution_count": null,
   "metadata": {},
   "outputs": [],
   "source": [
    "mapper.visualize(graph=graph, path_html='graph.html', color_function=np.array(train_tiv))\n",
    "\n",
    "dyneugraph = dsr.DyNeuGraph(G=graph, y=np.array(train_tiv))\n",
    "dyneugraph.visualize('graph_dyneusr.html', show=False)"
   ]
  },
  {
   "cell_type": "markdown",
   "metadata": {},
   "source": [
    "### **TIV distribution across nodes**"
   ]
  },
  {
   "cell_type": "code",
   "execution_count": 13,
   "metadata": {},
   "outputs": [],
   "source": [
    "graph_nodes = {name: attributes['membership'] for name, attributes in list(nx_graph.nodes(data=True))}\n",
    "\n",
    "tiv_nodes = {}\n",
    "for node, members in graph_nodes.items():\n",
    "    tiv_distribution = []\n",
    "    for member in members:\n",
    "        tiv_distribution.append(train_tiv[member])\n",
    "\n",
    "    node_id = int(node.split('cube')[1].split('_')[0]) \n",
    "\n",
    "    avg_tiv = np.mean(tiv_distribution)\n",
    "\n",
    "    tiv_nodes[node_id] = avg_tiv"
   ]
  },
  {
   "cell_type": "markdown",
   "metadata": {},
   "source": [
    "Distribution of average TIV in training set"
   ]
  },
  {
   "cell_type": "code",
   "execution_count": 14,
   "metadata": {},
   "outputs": [],
   "source": [
    "train_membership = {}\n",
    "for j in range(0, x_train.shape[0]):\n",
    "    node_ = []\n",
    "    for node, members in graph_nodes.items():\n",
    "        node_id = int(node.split('cube')[1].split('_')[0])\n",
    "        if j in members:\n",
    "            node_.append(node_id)\n",
    "    \n",
    "    if len(node_) > 0:\n",
    "        train_membership[j] = node_\n",
    "    else:\n",
    "        continue"
   ]
  },
  {
   "cell_type": "code",
   "execution_count": 15,
   "metadata": {},
   "outputs": [],
   "source": [
    "train_tiv_distribution = {}\n",
    "for idx, nodes in train_membership.items():\n",
    "    tiv_in_nodes = []\n",
    "    for node in nodes:\n",
    "        tiv_in_nodes.append(tiv_nodes[node])\n",
    "\n",
    "    train_tiv_distribution[idx] = [np.mean(tiv_in_nodes), train_tiv[idx]]"
   ]
  },
  {
   "cell_type": "markdown",
   "metadata": {},
   "source": [
    "### **Mapping framework application**"
   ]
  },
  {
   "cell_type": "code",
   "execution_count": 16,
   "metadata": {},
   "outputs": [],
   "source": [
    "mapping = MappingTDA(x_train, projector, cover)"
   ]
  },
  {
   "cell_type": "code",
   "execution_count": 17,
   "metadata": {},
   "outputs": [],
   "source": [
    "graph_nodes_idx = [int(el_pca.split('cube')[1].split('_')[0]) for el_pca in list(nx_graph.nodes())]"
   ]
  },
  {
   "cell_type": "code",
   "execution_count": 18,
   "metadata": {},
   "outputs": [],
   "source": [
    "test_mapped = {}\n",
    "for i in range(0, x_test.shape[0]):\n",
    "    subj = x_test.iloc[[i]]\n",
    "    subj_projected = projector.transform(subj)\n",
    "\n",
    "    hypercubes_idx, hypercubes, bins = mapping.mapping(subj_projected)\n",
    "\n",
    "    nodes_idx = []\n",
    "    for idx in hypercubes_idx:\n",
    "        if idx in graph_nodes_idx:\n",
    "            nodes_idx.append(idx)\n",
    "\n",
    "    test_mapped[i] = nodes_idx"
   ]
  },
  {
   "cell_type": "code",
   "execution_count": 19,
   "metadata": {},
   "outputs": [],
   "source": [
    "test_tiv_distribution = {}\n",
    "for idx, nodes in test_mapped.items():\n",
    "    tiv_in_nodes = []\n",
    "    for node in nodes:\n",
    "        tiv_in_nodes.append(tiv_nodes[node])\n",
    "\n",
    "    test_tiv_distribution[idx] = [np.mean(tiv_in_nodes), test_tiv[idx]]"
   ]
  },
  {
   "cell_type": "markdown",
   "metadata": {},
   "source": [
    "### **Statistical test**"
   ]
  },
  {
   "cell_type": "markdown",
   "metadata": {},
   "source": [
    "**Estimated TIV**"
   ]
  },
  {
   "cell_type": "code",
   "execution_count": 20,
   "metadata": {},
   "outputs": [],
   "source": [
    "train_tiv_pred = []\n",
    "for idx, values in train_tiv_distribution.items():\n",
    "    train_tiv_pred.append(values[0])\n",
    "\n",
    "test_tiv_pred = []\n",
    "for idx, values in test_tiv_distribution.items():\n",
    "    test_tiv_pred.append(values[0])\n",
    "\n",
    "train_tiv_pred = np.array(train_tiv_pred)\n",
    "test_tiv_pred = np.array(test_tiv_pred)"
   ]
  },
  {
   "cell_type": "markdown",
   "metadata": {},
   "source": [
    "**True TIV**"
   ]
  },
  {
   "cell_type": "code",
   "execution_count": 21,
   "metadata": {},
   "outputs": [],
   "source": [
    "train_tiv_true = []\n",
    "for idx, values in train_tiv_distribution.items():\n",
    "    train_tiv_true.append(values[1])\n",
    "\n",
    "test_tiv_true = []\n",
    "for idx, values in test_tiv_distribution.items():\n",
    "    test_tiv_true.append(values[1])\n",
    "\n",
    "train_tiv_true = np.array(train_tiv_true)\n",
    "test_tiv_true = np.array(test_tiv_true)"
   ]
  },
  {
   "cell_type": "markdown",
   "metadata": {},
   "source": [
    "#### **Wilcoxon**"
   ]
  },
  {
   "cell_type": "code",
   "execution_count": 22,
   "metadata": {},
   "outputs": [
    {
     "name": "stdout",
     "output_type": "stream",
     "text": [
      "Wilcoxon test for Train Set: WilcoxonResult(statistic=191889.0, pvalue=0.5863967313588607)\n",
      "Wilcoxon test for Test Set: WilcoxonResult(statistic=12120.0, pvalue=0.7889133116969538)\n"
     ]
    }
   ],
   "source": [
    "res_train = wilcoxon(train_tiv_true, train_tiv_pred)\n",
    "res_test = wilcoxon(test_tiv_true, test_tiv_pred)\n",
    "\n",
    "print(f'Wilcoxon test for Train Set: {res_train}')\n",
    "print(f'Wilcoxon test for Test Set: {res_test}')"
   ]
  },
  {
   "cell_type": "markdown",
   "metadata": {},
   "source": [
    "#### **Paired T-test**"
   ]
  },
  {
   "cell_type": "code",
   "execution_count": 23,
   "metadata": {},
   "outputs": [
    {
     "name": "stdout",
     "output_type": "stream",
     "text": [
      "T-Test for Train Set: TtestResult(statistic=-0.11411627891299446, pvalue=0.9091715300395586, df=884)\n",
      "T-Test for Test Set: TtestResult(statistic=-0.5177655873635789, pvalue=0.6051397296154047, df=221)\n"
     ]
    }
   ],
   "source": [
    "res_train = ttest_rel(train_tiv_true, train_tiv_pred)\n",
    "res_test = ttest_rel(test_tiv_true, test_tiv_pred)\n",
    "\n",
    "print(f'T-Test for Train Set: {res_train}')\n",
    "print(f'T-Test for Test Set: {res_test}')"
   ]
  },
  {
   "cell_type": "markdown",
   "metadata": {},
   "source": [
    "#### **Kruskal**"
   ]
  },
  {
   "cell_type": "code",
   "execution_count": 24,
   "metadata": {},
   "outputs": [
    {
     "name": "stdout",
     "output_type": "stream",
     "text": [
      "Kruskal-Wallis test for Train Set: 0.5224999419245416, p-value: 0.4697772218108305\n",
      "Kruskal-Wallis test for Test Set: 0.12086823021399255, p-value: 0.7280947250559551\n"
     ]
    }
   ],
   "source": [
    "stat_train, p_train = kruskal(train_tiv_true, train_tiv_pred)\n",
    "stat_test, p_test = kruskal(test_tiv_true, test_tiv_pred)\n",
    "\n",
    "print(f'Kruskal-Wallis test for Train Set: {stat_train}, p-value: {p_train}')\n",
    "print(f'Kruskal-Wallis test for Test Set: {stat_test}, p-value: {p_test}')"
   ]
  },
  {
   "cell_type": "markdown",
   "metadata": {},
   "source": [
    "#### **TOST: two one-sided T-test**"
   ]
  },
  {
   "cell_type": "code",
   "execution_count": 25,
   "metadata": {},
   "outputs": [
    {
     "name": "stdout",
     "output_type": "stream",
     "text": [
      "TOST for Train Set: (0.5338785381397262, (-0.08504745110282232, 0.5338785381397262, 884.0), (-0.14318510672316795, 0.4430883111711259, 884.0))\n",
      "TOST for Test Set: (0.6925279555410067, (-0.5037425217409855, 0.6925279555410067, 221.0), (-0.5317886529861723, 0.2977032656033897, 221.0))\n"
     ]
    }
   ],
   "source": [
    "res_train = ttost_paired(train_tiv_true, train_tiv_pred, low=-0.1, upp=0.1)\n",
    "res_test = ttost_paired(test_tiv_true, test_tiv_pred, low=-0.1, upp=0.1)\n",
    "\n",
    "print(f'TOST for Train Set: {res_train}')\n",
    "print(f'TOST for Test Set: {res_test}')"
   ]
  },
  {
   "cell_type": "code",
   "execution_count": null,
   "metadata": {},
   "outputs": [],
   "source": []
  }
 ],
 "metadata": {
  "kernelspec": {
   "display_name": "tda_normative",
   "language": "python",
   "name": "python3"
  },
  "language_info": {
   "codemirror_mode": {
    "name": "ipython",
    "version": 3
   },
   "file_extension": ".py",
   "mimetype": "text/x-python",
   "name": "python",
   "nbconvert_exporter": "python",
   "pygments_lexer": "ipython3",
   "version": "3.11.7"
  }
 },
 "nbformat": 4,
 "nbformat_minor": 2
}
