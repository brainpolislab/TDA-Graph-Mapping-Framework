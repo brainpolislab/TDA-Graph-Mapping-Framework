{
 "cells": [
  {
   "cell_type": "markdown",
   "metadata": {},
   "source": [
    "# **1. Import libraries**"
   ]
  },
  {
   "cell_type": "code",
   "execution_count": 20,
   "metadata": {},
   "outputs": [],
   "source": [
    "import pandas as pd\n",
    "import numpy as np\n",
    "import matplotlib.pyplot as plt\n",
    "import matplotlib as mpl\n",
    "import random\n",
    "\n",
    "# TDA\n",
    "import kmapper as km\n",
    "import dyneusr as dsr\n",
    "from sklearn.manifold import Isomap\n",
    "from sklearn.decomposition import PCA, KernelPCA\n",
    "from sklearn.cluster import DBSCAN\n",
    "from kmapper.cover import Cover\n",
    "from tmap.tda.utils import optimize_dbscan_eps"
   ]
  },
  {
   "cell_type": "code",
   "execution_count": 21,
   "metadata": {},
   "outputs": [],
   "source": [
    "# Set seed for reproducibility\n",
    "seed_value = 27\n",
    "random.seed(seed_value)"
   ]
  },
  {
   "cell_type": "markdown",
   "metadata": {},
   "source": [
    "# **2. Import data**"
   ]
  },
  {
   "cell_type": "code",
   "execution_count": 22,
   "metadata": {},
   "outputs": [],
   "source": [
    "data_path = '/Users/stefanovannoni/Library/CloudStorage/OneDrive-PolitecnicodiMilano/Dottorato/Tesi Magistrale/data.csv'\n",
    "\n",
    "# Load data\n",
    "data = pd.read_csv(data_path)\n",
    "\n",
    "# Remove class labels\n",
    "x = data.drop('study_group', axis=1)\n",
    "\n",
    "# Class labels\n",
    "y = data['study_group']\n",
    "y_dummy = pd.get_dummies(y)\n",
    "y_dummy = y_dummy.astype(int)"
   ]
  },
  {
   "cell_type": "code",
   "execution_count": 23,
   "metadata": {},
   "outputs": [
    {
     "data": {
      "image/png": "[encoded data removed]",
      "text/plain": [
       "<Figure size 640x480 with 1 Axes>"
      ]
     },
     "metadata": {},
     "output_type": "display_data"
    }
   ],
   "source": [
    "# Class labels histogram\n",
    "labels_freq = data['study_group'].value_counts()\n",
    "colors = ['blue', 'green', 'red', 'orange']\n",
    "labels_freq.plot(kind='bar', color=colors)\n",
    "\n",
    "for i, valore in enumerate(labels_freq):\n",
    "    plt.text(i, valore, str(valore), ha='center', va='bottom')\n",
    "\n",
    "plt.show()"
   ]
  },
  {
   "cell_type": "code",
   "execution_count": 24,
   "metadata": {},
   "outputs": [],
   "source": [
    "# Only HC samples\n",
    "x_hc = data[data['study_group'] == 'HC']\n",
    "x_hc = x_hc.drop('study_group', axis=1)"
   ]
  },
  {
   "cell_type": "markdown",
   "metadata": {},
   "source": [
    "# **3. Project data (Filtering)**"
   ]
  },
  {
   "cell_type": "code",
   "execution_count": 25,
   "metadata": {},
   "outputs": [],
   "source": [
    "# PCA\n",
    "pca = PCA(n_components=2, random_state=seed_value)\n",
    "pca = pca.fit(x_hc)\n",
    "\n",
    "# Isomap\n",
    "isomap = Isomap(n_components=2)\n",
    "isomap = isomap.fit(x_hc)\n",
    "\n",
    "# Kernel PCA\n",
    "kernelpca = KernelPCA(n_components=2, kernel='rbf', random_state=seed_value)\n",
    "kernelpca = kernelpca.fit(x_hc)"
   ]
  },
  {
   "cell_type": "code",
   "execution_count": 26,
   "metadata": {},
   "outputs": [],
   "source": [
    "# Projection into 2D\n",
    "x_hc_pca = pca.transform(x_hc)\n",
    "x_hc_isomap = isomap.transform(x_hc)\n",
    "x_hc_kernelpca = kernelpca.transform(x_hc)"
   ]
  },
  {
   "cell_type": "markdown",
   "metadata": {},
   "source": [
    "# **4. TDA**"
   ]
  },
  {
   "cell_type": "code",
   "execution_count": 27,
   "metadata": {},
   "outputs": [
    {
     "name": "stdout",
     "output_type": "stream",
     "text": [
      "KeplerMapper()\n"
     ]
    }
   ],
   "source": [
    "mapper = km.KeplerMapper(verbose=1)"
   ]
  },
  {
   "cell_type": "code",
   "execution_count": 28,
   "metadata": {},
   "outputs": [
    {
     "name": "stdout",
     "output_type": "stream",
     "text": [
      "..Composing projection pipeline of length 1:\n",
      "\tProjections: [0, 1]\n",
      "\tDistance matrices: False\n",
      "\tScalers: MinMaxScaler()\n",
      "..Projecting on data shaped (251, 2)\n",
      "\n",
      "..Projecting data using: [0, 1]\n",
      "\n",
      "..Scaling with: MinMaxScaler()\n",
      "\n",
      "..Composing projection pipeline of length 1:\n",
      "\tProjections: [0, 1]\n",
      "\tDistance matrices: False\n",
      "\tScalers: MinMaxScaler()\n",
      "..Projecting on data shaped (251, 2)\n",
      "\n",
      "..Projecting data using: [0, 1]\n",
      "\n",
      "..Scaling with: MinMaxScaler()\n",
      "\n",
      "..Composing projection pipeline of length 1:\n",
      "\tProjections: [0, 1]\n",
      "\tDistance matrices: False\n",
      "\tScalers: MinMaxScaler()\n",
      "..Projecting on data shaped (251, 2)\n",
      "\n",
      "..Projecting data using: [0, 1]\n",
      "\n",
      "..Scaling with: MinMaxScaler()\n",
      "\n"
     ]
    }
   ],
   "source": [
    "# Create lens function\n",
    "lens_pca = mapper.fit_transform(pca.fit_transform(x_hc, y=None), projection=[0,1])\n",
    "lens_isomap = mapper.fit_transform(isomap.fit_transform(x_hc, y=None), projection=[0,1])\n",
    "lens_kernelpca = mapper.fit_transform(kernelpca.fit_transform(x_hc, y=None), projection=[0,1])\n",
    "\n",
    "# Create cover\n",
    "cover = Cover(n_cubes=20, perc_overlap=0.5)"
   ]
  },
  {
   "cell_type": "code",
   "execution_count": 29,
   "metadata": {},
   "outputs": [
    {
     "name": "stdout",
     "output_type": "stream",
     "text": [
      "Mapping on data shaped (251, 12720) using lens shaped (251, 2)\n",
      "\n",
      "Creating 400 hypercubes.\n",
      "\n",
      "Created 274 edges and 96 nodes in 0:00:00.128273.\n",
      "Mapping on data shaped (251, 12720) using lens shaped (251, 2)\n",
      "\n",
      "Creating 400 hypercubes.\n",
      "\n",
      "Created 348 edges and 138 nodes in 0:00:00.143927.\n",
      "Mapping on data shaped (251, 12720) using lens shaped (251, 2)\n",
      "\n",
      "Creating 400 hypercubes.\n",
      "\n",
      "Created 413 edges and 152 nodes in 0:00:00.139587.\n"
     ]
    }
   ],
   "source": [
    "# Create graph\n",
    "graph_pca = mapper.map(\n",
    "    lens=lens_pca,\n",
    "    X=x_hc,\n",
    "    cover=cover,\n",
    "    clusterer=DBSCAN(eps=optimize_dbscan_eps(x_hc, threshold=95), min_samples=2)\n",
    ")\n",
    "\n",
    "graph_isomap = mapper.map(\n",
    "    lens=lens_isomap,\n",
    "    X=x_hc,\n",
    "    cover=cover,\n",
    "    clusterer=DBSCAN(eps=optimize_dbscan_eps(x_hc, threshold=95), min_samples=2)\n",
    ")\n",
    "\n",
    "graph_kernelpca = mapper.map(\n",
    "    lens=lens_kernelpca,\n",
    "    X=x_hc,\n",
    "    cover=cover,\n",
    "    clusterer=DBSCAN(eps=optimize_dbscan_eps(x_hc, threshold=95), min_samples=2)\n",
    ")"
   ]
  },
  {
   "cell_type": "code",
   "execution_count": 30,
   "metadata": {},
   "outputs": [],
   "source": [
    "# Convert graphs to networkx\n",
    "graph_pca_nx = km.adapter.to_nx(graph_pca)\n",
    "graph_isomap_nx = km.adapter.to_nx(graph_isomap)\n",
    "graph_kernelpca_nx = km.adapter.to_nx(graph_kernelpca)"
   ]
  },
  {
   "cell_type": "code",
   "execution_count": 31,
   "metadata": {},
   "outputs": [],
   "source": [
    "# PCA\n",
    "samples_in_nodes_pca = {name: attributes['membership'] for name, attributes in list(graph_pca_nx.nodes(data=True))}\n",
    "samples_in_nodes_pca = list(samples_in_nodes_pca.values())\n",
    "samples_pca = [int(el_pca.split('cube')[1].split('_')[0]) for el_pca in list(graph_pca_nx.nodes())] # node indices (number of nodes of the TDA graph)\n",
    "\n",
    "# Isomap\n",
    "samples_in_nodes_isomap = {name: attributes['membership'] for name, attributes in list(graph_isomap_nx.nodes(data=True))}\n",
    "samples_in_nodes_isomap = list(samples_in_nodes_isomap.values())\n",
    "samples_isomap = [int(el_isomap.split('cube')[1].split('_')[0]) for el_isomap in list(graph_isomap_nx.nodes())] # node indices (number of nodes of the TDA graph)\n",
    "\n",
    "# Kernel PCA\n",
    "samples_in_nodes_kernelpca = {name: attributes['membership'] for name, attributes in list(graph_kernelpca_nx.nodes(data=True))}\n",
    "samples_in_nodes_kernelpca = list(samples_in_nodes_kernelpca.values())\n",
    "samples_kernelpca = [int(el_kernelpca.split('cube')[1].split('_')[0]) for el_kernelpca in list(graph_kernelpca_nx.nodes())] # node indices (number of nodes of the TDA graph)"
   ]
  },
  {
   "cell_type": "markdown",
   "metadata": {},
   "source": [
    "# **5. Framework validation**"
   ]
  },
  {
   "cell_type": "code",
   "execution_count": 32,
   "metadata": {},
   "outputs": [],
   "source": [
    "def mapping_tda(data, sample, cover):\n",
    "    # Add index column to data\n",
    "    indices = np.arange(data.shape[0])[:, np.newaxis]\n",
    "    data = np.hstack((indices, data))\n",
    "\n",
    "    # Fit cover and get cube centers\n",
    "    cube_centers = cover.fit(data)\n",
    "    cube_centers = [(sublist[0], sublist[1]) for sublist in cube_centers]\n",
    "\n",
    "    # Transform data into hypercubes\n",
    "    hyper_cubes = cover.transform(data, cube_centers)\n",
    "\n",
    "    # Find indices of cubes containing the sample\n",
    "    index_cubes = cover.find(sample)\n",
    "\n",
    "    # Get indices of matching hypercubes\n",
    "    hyper_cubes_index = []\n",
    "    for index in index_cubes:\n",
    "        cube = cover.transform_single(data, cube_centers[index])\n",
    "\n",
    "        for j in range(len(hyper_cubes)):\n",
    "            if np.array_equal(cube, hyper_cubes[j]):\n",
    "                hyper_cubes_index.append(j)\n",
    "\n",
    "    # Print hypercubes with only one sample\n",
    "    for k in hyper_cubes_index:\n",
    "        if len(hyper_cubes[k]) == 1:\n",
    "            print(f'Hyper cube {k} with only one sample')\n",
    "        else:\n",
    "            continue\n",
    "\n",
    "    # Return indices, hypercubes, and centers\n",
    "    return hyper_cubes_index, hyper_cubes, cube_centers"
   ]
  },
  {
   "cell_type": "markdown",
   "metadata": {},
   "source": [
    "## **5.1. PCA filter projection**"
   ]
  },
  {
   "cell_type": "code",
   "execution_count": 41,
   "metadata": {},
   "outputs": [
    {
     "name": "stdout",
     "output_type": "stream",
     "text": [
      "Hyper cube 54 with only one sample\n",
      "Hyper cube 73 with only one sample\n",
      "Hyper cube 74 with only one sample\n",
      "Hyper cube 54 with only one sample\n",
      "Hyper cube 73 with only one sample\n",
      "Hyper cube 74 with only one sample\n",
      "Hyper cube 54 with only one sample\n",
      "Hyper cube 73 with only one sample\n",
      "Hyper cube 74 with only one sample\n",
      "Hyper cube 105 with only one sample\n",
      "Hyper cube 75 with only one sample\n",
      "Hyper cube 91 with only one sample\n",
      "Hyper cube 92 with only one sample\n",
      "Hyper cube 106 with only one sample\n",
      "Hyper cube 107 with only one sample\n",
      "Hyper cube 91 with only one sample\n",
      "Hyper cube 92 with only one sample\n",
      "Hyper cube 106 with only one sample\n",
      "Hyper cube 107 with only one sample\n",
      "Hyper cube 91 with only one sample\n",
      "Hyper cube 92 with only one sample\n",
      "Hyper cube 106 with only one sample\n",
      "Hyper cube 107 with only one sample\n",
      "Hyper cube 91 with only one sample\n",
      "Hyper cube 92 with only one sample\n",
      "Hyper cube 106 with only one sample\n",
      "Hyper cube 107 with only one sample\n",
      "Hyper cube 115 with only one sample\n",
      "Hyper cube 116 with only one sample\n",
      "Hyper cube 117 with only one sample\n",
      "Hyper cube 124 with only one sample\n",
      "Hyper cube 125 with only one sample\n",
      "Hyper cube 116 with only one sample\n",
      "Hyper cube 117 with only one sample\n",
      "Hyper cube 124 with only one sample\n",
      "Hyper cube 125 with only one sample\n",
      "Hyper cube 116 with only one sample\n",
      "Hyper cube 117 with only one sample\n",
      "Hyper cube 124 with only one sample\n",
      "Hyper cube 125 with only one sample\n",
      "Hyper cube 116 with only one sample\n",
      "Hyper cube 117 with only one sample\n",
      "Hyper cube 124 with only one sample\n",
      "Hyper cube 125 with only one sample\n",
      "Hyper cube 88 with only one sample\n",
      "Hyper cube 103 with only one sample\n",
      "Hyper cube 88 with only one sample\n",
      "Hyper cube 103 with only one sample\n",
      "Hyper cube 76 with only one sample\n",
      "Hyper cube 93 with only one sample\n",
      "Hyper cube 76 with only one sample\n",
      "Hyper cube 93 with only one sample\n",
      "Hyper cube 139 with only one sample\n",
      "Hyper cube 140 with only one sample\n",
      "Hyper cube 141 with only one sample\n",
      "Hyper cube 142 with only one sample\n",
      "Hyper cube 139 with only one sample\n",
      "Hyper cube 140 with only one sample\n",
      "Hyper cube 141 with only one sample\n",
      "Hyper cube 142 with only one sample\n",
      "Hyper cube 139 with only one sample\n",
      "Hyper cube 140 with only one sample\n",
      "Hyper cube 141 with only one sample\n",
      "Hyper cube 142 with only one sample\n",
      "Hyper cube 139 with only one sample\n",
      "Hyper cube 140 with only one sample\n",
      "Hyper cube 141 with only one sample\n",
      "Hyper cube 142 with only one sample\n",
      "Hyper cube 14 with only one sample\n",
      "Hyper cube 15 with only one sample\n",
      "Hyper cube 34 with only one sample\n",
      "Hyper cube 14 with only one sample\n",
      "Hyper cube 15 with only one sample\n",
      "Hyper cube 34 with only one sample\n",
      "Hyper cube 14 with only one sample\n",
      "Hyper cube 15 with only one sample\n",
      "Hyper cube 34 with only one sample\n",
      "Hyper cube 143 with only one sample\n",
      "Hyper cube 144 with only one sample\n",
      "Hyper cube 143 with only one sample\n",
      "Hyper cube 144 with only one sample\n",
      "Hyper cube 99 with only one sample\n",
      "Hyper cube 135 with only one sample\n",
      "Hyper cube 136 with only one sample\n",
      "Hyper cube 137 with only one sample\n",
      "Hyper cube 138 with only one sample\n",
      "Hyper cube 135 with only one sample\n",
      "Hyper cube 136 with only one sample\n",
      "Hyper cube 137 with only one sample\n",
      "Hyper cube 138 with only one sample\n",
      "Hyper cube 135 with only one sample\n",
      "Hyper cube 136 with only one sample\n",
      "Hyper cube 137 with only one sample\n",
      "Hyper cube 138 with only one sample\n",
      "Hyper cube 135 with only one sample\n",
      "Hyper cube 136 with only one sample\n",
      "Hyper cube 137 with only one sample\n",
      "Hyper cube 138 with only one sample\n",
      "Hyper cube 126 with only one sample\n",
      "Hyper cube 127 with only one sample\n",
      "Hyper cube 131 with only one sample\n",
      "Hyper cube 132 with only one sample\n",
      "Hyper cube 126 with only one sample\n",
      "Hyper cube 127 with only one sample\n",
      "Hyper cube 131 with only one sample\n",
      "Hyper cube 132 with only one sample\n",
      "Hyper cube 126 with only one sample\n",
      "Hyper cube 127 with only one sample\n",
      "Hyper cube 131 with only one sample\n",
      "Hyper cube 132 with only one sample\n",
      "Hyper cube 126 with only one sample\n",
      "Hyper cube 127 with only one sample\n",
      "Hyper cube 131 with only one sample\n",
      "Hyper cube 132 with only one sample\n",
      "Hyper cube 128 with only one sample\n",
      "Hyper cube 133 with only one sample\n",
      "Hyper cube 134 with only one sample\n",
      "Hyper cube 128 with only one sample\n",
      "Hyper cube 133 with only one sample\n",
      "Hyper cube 134 with only one sample\n",
      "Hyper cube 128 with only one sample\n",
      "Hyper cube 133 with only one sample\n",
      "Hyper cube 134 with only one sample\n",
      "Hyper cube 108 with only one sample\n",
      "Hyper cube 120 with only one sample\n",
      "Hyper cube 121 with only one sample\n",
      "Hyper cube 130 with only one sample\n",
      "Hyper cube 120 with only one sample\n",
      "Hyper cube 121 with only one sample\n",
      "Hyper cube 130 with only one sample\n",
      "Hyper cube 120 with only one sample\n",
      "Hyper cube 121 with only one sample\n",
      "Hyper cube 130 with only one sample\n",
      "Hyper cube 113 with only one sample\n",
      "Hyper cube 122 with only one sample\n",
      "Hyper cube 123 with only one sample\n",
      "Hyper cube 113 with only one sample\n",
      "Hyper cube 122 with only one sample\n",
      "Hyper cube 123 with only one sample\n",
      "Hyper cube 113 with only one sample\n",
      "Hyper cube 122 with only one sample\n",
      "Hyper cube 123 with only one sample\n"
     ]
    }
   ],
   "source": [
    "# Project HC samples\n",
    "sample_map_pca = []\n",
    "check = []\n",
    "\n",
    "for i in range(len(x_hc)):\n",
    "    subject = x_hc.iloc[i, :].values.reshape(1, -1)\n",
    "    subject_pca = pca.transform(subject)\n",
    "    hyper_cubes_index_pca, hyper_cubes_pca, cube_centers_pca = mapping_tda(x_hc_pca, subject_pca, cover)\n",
    "\n",
    "    nodes_indices = []\n",
    "    for k, sample in enumerate(samples_in_nodes_pca):\n",
    "        if i in sample:\n",
    "            nodes_indices.append(samples_pca[k])\n",
    "\n",
    "    if all(index in hyper_cubes_index_pca for index in nodes_indices):\n",
    "        check.append(True)\n",
    "\n",
    "    for cube_index in hyper_cubes_index_pca:\n",
    "        if len(hyper_cubes_pca[cube_index]) > 1:\n",
    "            if cube_index in samples_pca and f'subject_{i}' not in sample_map_pca:\n",
    "                sample_map_pca.append(f'subject_{i}')"
   ]
  },
  {
   "cell_type": "code",
   "execution_count": 42,
   "metadata": {},
   "outputs": [
    {
     "data": {
      "text/plain": [
       "251"
      ]
     },
     "execution_count": 42,
     "metadata": {},
     "output_type": "execute_result"
    }
   ],
   "source": [
    "np.array(check).sum()"
   ]
  },
  {
   "cell_type": "code",
   "execution_count": 17,
   "metadata": {},
   "outputs": [],
   "source": [
    "miss_indexes = [f'subject_{i}' for i in range(251) if f'subject_{i}' not in sample_map_pca]\n",
    "miss_indexes = [int(element.split('subject_')[1].split('_')[0]) for element in miss_indexes]"
   ]
  },
  {
   "cell_type": "code",
   "execution_count": 18,
   "metadata": {},
   "outputs": [
    {
     "name": "stdout",
     "output_type": "stream",
     "text": [
      "0\n"
     ]
    }
   ],
   "source": [
    "miss_indexes_set = set(miss_indexes)\n",
    "count = sum(valore in sample for sample in samples_in_nodes_pca for valore in miss_indexes_set)\n",
    "\n",
    "print(count)"
   ]
  },
  {
   "cell_type": "markdown",
   "metadata": {},
   "source": [
    "## **5.2. Isomap filter projection**"
   ]
  },
  {
   "cell_type": "code",
   "execution_count": 39,
   "metadata": {},
   "outputs": [
    {
     "name": "stdout",
     "output_type": "stream",
     "text": [
      "Hyper cube 165 with only one sample\n",
      "Hyper cube 166 with only one sample\n",
      "Hyper cube 165 with only one sample\n",
      "Hyper cube 166 with only one sample\n",
      "Hyper cube 76 with only one sample\n",
      "Hyper cube 38 with only one sample\n",
      "Hyper cube 186 with only one sample\n",
      "Hyper cube 43 with only one sample\n",
      "Hyper cube 90 with only one sample\n",
      "Hyper cube 25 with only one sample\n",
      "Hyper cube 26 with only one sample\n",
      "Hyper cube 25 with only one sample\n",
      "Hyper cube 26 with only one sample\n",
      "Hyper cube 97 with only one sample\n",
      "Hyper cube 98 with only one sample\n",
      "Hyper cube 117 with only one sample\n",
      "Hyper cube 118 with only one sample\n",
      "Hyper cube 97 with only one sample\n",
      "Hyper cube 98 with only one sample\n",
      "Hyper cube 117 with only one sample\n",
      "Hyper cube 118 with only one sample\n",
      "Hyper cube 97 with only one sample\n",
      "Hyper cube 98 with only one sample\n",
      "Hyper cube 117 with only one sample\n",
      "Hyper cube 118 with only one sample\n",
      "Hyper cube 97 with only one sample\n",
      "Hyper cube 98 with only one sample\n",
      "Hyper cube 117 with only one sample\n",
      "Hyper cube 118 with only one sample\n",
      "Hyper cube 155 with only one sample\n",
      "Hyper cube 27 with only one sample\n",
      "Hyper cube 181 with only one sample\n",
      "Hyper cube 164 with only one sample\n",
      "Hyper cube 111 with only one sample\n",
      "Hyper cube 167 with only one sample\n",
      "Hyper cube 136 with only one sample\n",
      "Hyper cube 152 with only one sample\n",
      "Hyper cube 136 with only one sample\n",
      "Hyper cube 152 with only one sample\n",
      "Hyper cube 94 with only one sample\n",
      "Hyper cube 114 with only one sample\n",
      "Hyper cube 94 with only one sample\n",
      "Hyper cube 114 with only one sample\n",
      "Hyper cube 200 with only one sample\n",
      "Hyper cube 207 with only one sample\n",
      "Hyper cube 200 with only one sample\n",
      "Hyper cube 207 with only one sample\n",
      "Hyper cube 4 with only one sample\n",
      "Hyper cube 40 with only one sample\n",
      "Hyper cube 7 with only one sample\n",
      "Hyper cube 129 with only one sample\n",
      "Hyper cube 143 with only one sample\n",
      "Hyper cube 96 with only one sample\n",
      "Hyper cube 11 with only one sample\n",
      "Hyper cube 135 with only one sample\n",
      "Hyper cube 151 with only one sample\n",
      "Hyper cube 135 with only one sample\n",
      "Hyper cube 151 with only one sample\n",
      "Hyper cube 119 with only one sample\n",
      "Hyper cube 154 with only one sample\n",
      "Hyper cube 214 with only one sample\n",
      "Hyper cube 77 with only one sample\n",
      "Hyper cube 176 with only one sample\n",
      "Hyper cube 177 with only one sample\n",
      "Hyper cube 187 with only one sample\n",
      "Hyper cube 188 with only one sample\n",
      "Hyper cube 176 with only one sample\n",
      "Hyper cube 177 with only one sample\n",
      "Hyper cube 187 with only one sample\n",
      "Hyper cube 188 with only one sample\n",
      "Hyper cube 176 with only one sample\n",
      "Hyper cube 177 with only one sample\n",
      "Hyper cube 187 with only one sample\n",
      "Hyper cube 188 with only one sample\n",
      "Hyper cube 176 with only one sample\n",
      "Hyper cube 177 with only one sample\n",
      "Hyper cube 187 with only one sample\n",
      "Hyper cube 188 with only one sample\n",
      "Hyper cube 159 with only one sample\n",
      "Hyper cube 12 with only one sample\n",
      "Hyper cube 58 with only one sample\n",
      "Hyper cube 8 with only one sample\n",
      "Hyper cube 24 with only one sample\n",
      "Hyper cube 8 with only one sample\n",
      "Hyper cube 24 with only one sample\n",
      "Hyper cube 212 with only one sample\n",
      "Hyper cube 169 with only one sample\n",
      "Hyper cube 130 with only one sample\n",
      "Hyper cube 205 with only one sample\n",
      "Hyper cube 206 with only one sample\n",
      "Hyper cube 205 with only one sample\n",
      "Hyper cube 206 with only one sample\n",
      "Hyper cube 195 with only one sample\n",
      "Hyper cube 202 with only one sample\n",
      "Hyper cube 209 with only one sample\n",
      "Hyper cube 202 with only one sample\n",
      "Hyper cube 209 with only one sample\n",
      "Hyper cube 203 with only one sample\n",
      "Hyper cube 204 with only one sample\n",
      "Hyper cube 210 with only one sample\n",
      "Hyper cube 211 with only one sample\n",
      "Hyper cube 203 with only one sample\n",
      "Hyper cube 204 with only one sample\n",
      "Hyper cube 210 with only one sample\n",
      "Hyper cube 211 with only one sample\n",
      "Hyper cube 203 with only one sample\n",
      "Hyper cube 204 with only one sample\n",
      "Hyper cube 210 with only one sample\n",
      "Hyper cube 211 with only one sample\n",
      "Hyper cube 203 with only one sample\n",
      "Hyper cube 204 with only one sample\n",
      "Hyper cube 210 with only one sample\n",
      "Hyper cube 211 with only one sample\n",
      "Hyper cube 189 with only one sample\n",
      "Hyper cube 18 with only one sample\n"
     ]
    }
   ],
   "source": [
    "# Project HC samples\n",
    "isomap_sample_map = []\n",
    "check = []\n",
    "\n",
    "for i in range(len(x_hc)):\n",
    "    subject = x_hc.iloc[i, :].values.reshape(1, -1)\n",
    "    subject_isomap = isomap.transform(subject)\n",
    "    hyper_cubes_index_isomap, hyper_cubes_isomap, cube_centers_isomap = mapping_tda(x_hc_isomap, subject_isomap, cover)\n",
    "\n",
    "    nodes_indices = []\n",
    "    for k, sample in enumerate(samples_in_nodes_isomap):\n",
    "        if i in sample:\n",
    "            nodes_indices.append(samples_isomap[k])\n",
    "\n",
    "    if all(index in hyper_cubes_index_isomap for index in nodes_indices):\n",
    "        check.append(True)\n",
    "\n",
    "    for cube_index in hyper_cubes_index_isomap:\n",
    "        if len(hyper_cubes_isomap[cube_index]) > 1:\n",
    "            if cube_index in samples_isomap and f'subject_{i}' not in isomap_sample_map:\n",
    "                isomap_sample_map.append(f'subject_{i}')"
   ]
  },
  {
   "cell_type": "code",
   "execution_count": 40,
   "metadata": {},
   "outputs": [
    {
     "data": {
      "text/plain": [
       "251"
      ]
     },
     "execution_count": 40,
     "metadata": {},
     "output_type": "execute_result"
    }
   ],
   "source": [
    "np.array(check).sum()"
   ]
  },
  {
   "cell_type": "code",
   "execution_count": 23,
   "metadata": {},
   "outputs": [],
   "source": [
    "miss_indexes = [f'subject_{i}' for i in range(251) if f'subject_{i}' not in isomap_sample_map]\n",
    "miss_indexes = [int(element.split('subject_')[1].split('_')[0]) for element in miss_indexes]"
   ]
  },
  {
   "cell_type": "code",
   "execution_count": 25,
   "metadata": {},
   "outputs": [
    {
     "name": "stdout",
     "output_type": "stream",
     "text": [
      "0\n"
     ]
    }
   ],
   "source": [
    "miss_indexes_set = set(miss_indexes)\n",
    "count = sum(valore in sample for sample in samples_in_nodes_isomap for valore in miss_indexes_set)\n",
    "\n",
    "print(count)"
   ]
  },
  {
   "cell_type": "markdown",
   "metadata": {},
   "source": [
    "## **5.3. Kernel PCA filter projection**"
   ]
  },
  {
   "cell_type": "code",
   "execution_count": 43,
   "metadata": {},
   "outputs": [
    {
     "name": "stdout",
     "output_type": "stream",
     "text": [
      "Hyper cube 183 with only one sample\n",
      "Hyper cube 192 with only one sample\n",
      "Hyper cube 207 with only one sample\n",
      "Hyper cube 192 with only one sample\n",
      "Hyper cube 207 with only one sample\n",
      "Hyper cube 218 with only one sample\n",
      "Hyper cube 86 with only one sample\n",
      "Hyper cube 87 with only one sample\n",
      "Hyper cube 86 with only one sample\n",
      "Hyper cube 87 with only one sample\n",
      "Hyper cube 221 with only one sample\n",
      "Hyper cube 222 with only one sample\n",
      "Hyper cube 229 with only one sample\n",
      "Hyper cube 230 with only one sample\n",
      "Hyper cube 221 with only one sample\n",
      "Hyper cube 222 with only one sample\n",
      "Hyper cube 229 with only one sample\n",
      "Hyper cube 230 with only one sample\n",
      "Hyper cube 221 with only one sample\n",
      "Hyper cube 222 with only one sample\n",
      "Hyper cube 229 with only one sample\n",
      "Hyper cube 230 with only one sample\n",
      "Hyper cube 221 with only one sample\n",
      "Hyper cube 222 with only one sample\n",
      "Hyper cube 229 with only one sample\n",
      "Hyper cube 230 with only one sample\n",
      "Hyper cube 69 with only one sample\n",
      "Hyper cube 83 with only one sample\n",
      "Hyper cube 69 with only one sample\n",
      "Hyper cube 83 with only one sample\n",
      "Hyper cube 155 with only one sample\n",
      "Hyper cube 173 with only one sample\n",
      "Hyper cube 155 with only one sample\n",
      "Hyper cube 173 with only one sample\n",
      "Hyper cube 152 with only one sample\n",
      "Hyper cube 169 with only one sample\n",
      "Hyper cube 170 with only one sample\n",
      "Hyper cube 152 with only one sample\n",
      "Hyper cube 169 with only one sample\n",
      "Hyper cube 170 with only one sample\n",
      "Hyper cube 152 with only one sample\n",
      "Hyper cube 169 with only one sample\n",
      "Hyper cube 170 with only one sample\n",
      "Hyper cube 174 with only one sample\n",
      "Hyper cube 7 with only one sample\n",
      "Hyper cube 8 with only one sample\n",
      "Hyper cube 17 with only one sample\n",
      "Hyper cube 18 with only one sample\n",
      "Hyper cube 7 with only one sample\n",
      "Hyper cube 8 with only one sample\n",
      "Hyper cube 17 with only one sample\n",
      "Hyper cube 18 with only one sample\n",
      "Hyper cube 7 with only one sample\n",
      "Hyper cube 8 with only one sample\n",
      "Hyper cube 17 with only one sample\n",
      "Hyper cube 18 with only one sample\n",
      "Hyper cube 7 with only one sample\n",
      "Hyper cube 8 with only one sample\n",
      "Hyper cube 17 with only one sample\n",
      "Hyper cube 18 with only one sample\n",
      "Hyper cube 178 with only one sample\n",
      "Hyper cube 202 with only one sample\n",
      "Hyper cube 165 with only one sample\n",
      "Hyper cube 166 with only one sample\n",
      "Hyper cube 184 with only one sample\n",
      "Hyper cube 165 with only one sample\n",
      "Hyper cube 166 with only one sample\n",
      "Hyper cube 184 with only one sample\n",
      "Hyper cube 165 with only one sample\n",
      "Hyper cube 166 with only one sample\n",
      "Hyper cube 184 with only one sample\n",
      "Hyper cube 238 with only one sample\n",
      "Hyper cube 239 with only one sample\n",
      "Hyper cube 242 with only one sample\n",
      "Hyper cube 243 with only one sample\n",
      "Hyper cube 238 with only one sample\n",
      "Hyper cube 239 with only one sample\n",
      "Hyper cube 242 with only one sample\n",
      "Hyper cube 243 with only one sample\n",
      "Hyper cube 238 with only one sample\n",
      "Hyper cube 239 with only one sample\n",
      "Hyper cube 242 with only one sample\n",
      "Hyper cube 243 with only one sample\n",
      "Hyper cube 238 with only one sample\n",
      "Hyper cube 239 with only one sample\n",
      "Hyper cube 242 with only one sample\n",
      "Hyper cube 243 with only one sample\n",
      "Hyper cube 197 with only one sample\n",
      "Hyper cube 198 with only one sample\n",
      "Hyper cube 212 with only one sample\n",
      "Hyper cube 213 with only one sample\n",
      "Hyper cube 197 with only one sample\n",
      "Hyper cube 198 with only one sample\n",
      "Hyper cube 212 with only one sample\n",
      "Hyper cube 213 with only one sample\n",
      "Hyper cube 197 with only one sample\n",
      "Hyper cube 198 with only one sample\n",
      "Hyper cube 212 with only one sample\n",
      "Hyper cube 213 with only one sample\n",
      "Hyper cube 197 with only one sample\n",
      "Hyper cube 198 with only one sample\n",
      "Hyper cube 212 with only one sample\n",
      "Hyper cube 213 with only one sample\n",
      "Hyper cube 84 with only one sample\n",
      "Hyper cube 85 with only one sample\n",
      "Hyper cube 101 with only one sample\n",
      "Hyper cube 102 with only one sample\n",
      "Hyper cube 84 with only one sample\n",
      "Hyper cube 85 with only one sample\n",
      "Hyper cube 101 with only one sample\n",
      "Hyper cube 102 with only one sample\n",
      "Hyper cube 84 with only one sample\n",
      "Hyper cube 85 with only one sample\n",
      "Hyper cube 101 with only one sample\n",
      "Hyper cube 102 with only one sample\n",
      "Hyper cube 84 with only one sample\n",
      "Hyper cube 85 with only one sample\n",
      "Hyper cube 101 with only one sample\n",
      "Hyper cube 102 with only one sample\n",
      "Hyper cube 195 with only one sample\n",
      "Hyper cube 196 with only one sample\n",
      "Hyper cube 210 with only one sample\n",
      "Hyper cube 211 with only one sample\n",
      "Hyper cube 195 with only one sample\n",
      "Hyper cube 196 with only one sample\n",
      "Hyper cube 210 with only one sample\n",
      "Hyper cube 211 with only one sample\n",
      "Hyper cube 195 with only one sample\n",
      "Hyper cube 196 with only one sample\n",
      "Hyper cube 210 with only one sample\n",
      "Hyper cube 211 with only one sample\n",
      "Hyper cube 195 with only one sample\n",
      "Hyper cube 196 with only one sample\n",
      "Hyper cube 210 with only one sample\n",
      "Hyper cube 211 with only one sample\n",
      "Hyper cube 56 with only one sample\n",
      "Hyper cube 6 with only one sample\n",
      "Hyper cube 133 with only one sample\n",
      "Hyper cube 164 with only one sample\n",
      "Hyper cube 134 with only one sample\n",
      "Hyper cube 228 with only one sample\n",
      "Hyper cube 16 with only one sample\n",
      "Hyper cube 100 with only one sample\n",
      "Hyper cube 0 with only one sample\n",
      "Hyper cube 1 with only one sample\n",
      "Hyper cube 0 with only one sample\n",
      "Hyper cube 1 with only one sample\n",
      "Hyper cube 187 with only one sample\n",
      "Hyper cube 201 with only one sample\n",
      "Hyper cube 187 with only one sample\n",
      "Hyper cube 201 with only one sample\n",
      "Hyper cube 244 with only one sample\n",
      "Hyper cube 245 with only one sample\n",
      "Hyper cube 244 with only one sample\n",
      "Hyper cube 245 with only one sample\n",
      "Hyper cube 149 with only one sample\n",
      "Hyper cube 150 with only one sample\n",
      "Hyper cube 167 with only one sample\n",
      "Hyper cube 168 with only one sample\n",
      "Hyper cube 149 with only one sample\n",
      "Hyper cube 150 with only one sample\n",
      "Hyper cube 167 with only one sample\n",
      "Hyper cube 168 with only one sample\n",
      "Hyper cube 149 with only one sample\n",
      "Hyper cube 150 with only one sample\n",
      "Hyper cube 167 with only one sample\n",
      "Hyper cube 168 with only one sample\n",
      "Hyper cube 149 with only one sample\n",
      "Hyper cube 150 with only one sample\n",
      "Hyper cube 167 with only one sample\n",
      "Hyper cube 168 with only one sample\n",
      "Hyper cube 235 with only one sample\n",
      "Hyper cube 153 with only one sample\n",
      "Hyper cube 171 with only one sample\n",
      "Hyper cube 153 with only one sample\n",
      "Hyper cube 171 with only one sample\n",
      "Hyper cube 223 with only one sample\n",
      "Hyper cube 224 with only one sample\n",
      "Hyper cube 231 with only one sample\n",
      "Hyper cube 232 with only one sample\n",
      "Hyper cube 223 with only one sample\n",
      "Hyper cube 224 with only one sample\n",
      "Hyper cube 231 with only one sample\n",
      "Hyper cube 232 with only one sample\n",
      "Hyper cube 223 with only one sample\n",
      "Hyper cube 224 with only one sample\n",
      "Hyper cube 231 with only one sample\n",
      "Hyper cube 232 with only one sample\n",
      "Hyper cube 223 with only one sample\n",
      "Hyper cube 224 with only one sample\n",
      "Hyper cube 231 with only one sample\n",
      "Hyper cube 232 with only one sample\n"
     ]
    }
   ],
   "source": [
    "# Project HC samples\n",
    "kernelpca_sample_map = []\n",
    "check = []\n",
    "\n",
    "for i in range(len(x_hc)):\n",
    "    subject = x_hc.iloc[i, :].values.reshape(1, -1)\n",
    "    subject_kernelpca = kernelpca.transform(subject)\n",
    "    hyper_cubes_index_kernelpca, hyper_cubes_kernelpca, cube_centers_kernelpca = mapping_tda(x_hc_kernelpca, subject_kernelpca, cover)\n",
    "\n",
    "    nodes_indices = []\n",
    "    for k, sample in enumerate(samples_in_nodes_kernelpca):\n",
    "        if i in sample:\n",
    "            nodes_indices.append(samples_kernelpca[k])\n",
    "\n",
    "    if all(index in hyper_cubes_index_kernelpca for index in nodes_indices):\n",
    "        check.append(True)\n",
    "\n",
    "    for cube_index in hyper_cubes_index_kernelpca:\n",
    "        if len(hyper_cubes_kernelpca[cube_index]) > 1:\n",
    "            if cube_index in samples_kernelpca and f'subject_{i}' not in kernelpca_sample_map:\n",
    "                kernelpca_sample_map.append(f'subject_{i}')"
   ]
  },
  {
   "cell_type": "code",
   "execution_count": 44,
   "metadata": {},
   "outputs": [
    {
     "data": {
      "text/plain": [
       "251"
      ]
     },
     "execution_count": 44,
     "metadata": {},
     "output_type": "execute_result"
    }
   ],
   "source": [
    "np.array(check).sum()"
   ]
  },
  {
   "cell_type": "code",
   "execution_count": 27,
   "metadata": {},
   "outputs": [],
   "source": [
    "miss_indexes = [f'subject_{i}' for i in range(251) if f'subject_{i}' not in kernelpca_sample_map]\n",
    "miss_indexes = [int(element.split('subject_')[1].split('_')[0]) for element in miss_indexes]"
   ]
  },
  {
   "cell_type": "code",
   "execution_count": 30,
   "metadata": {},
   "outputs": [
    {
     "name": "stdout",
     "output_type": "stream",
     "text": [
      "0\n"
     ]
    }
   ],
   "source": [
    "miss_indexes_set = set(miss_indexes)\n",
    "count = sum(valore in sample for sample in samples_in_nodes_kernelpca for valore in miss_indexes_set)\n",
    "\n",
    "print(count)"
   ]
  }
 ],
 "metadata": {
  "kernelspec": {
   "display_name": "Mapping framework",
   "language": "python",
   "name": "python3"
  },
  "language_info": {
   "codemirror_mode": {
    "name": "ipython",
    "version": 3
   },
   "file_extension": ".py",
   "mimetype": "text/x-python",
   "name": "python",
   "nbconvert_exporter": "python",
   "pygments_lexer": "ipython3",
   "version": "3.11.7"
  }
 },
 "nbformat": 4,
 "nbformat_minor": 2
}
